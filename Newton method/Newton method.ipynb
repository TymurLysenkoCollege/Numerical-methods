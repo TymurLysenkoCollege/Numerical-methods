{
 "cells": [
  {
   "cell_type": "markdown",
   "metadata": {},
   "source": [
    "Import all module members that we will use:"
   ]
  },
  {
   "cell_type": "code",
   "execution_count": 1,
   "metadata": {},
   "outputs": [],
   "source": [
    "from __future__ import division\n",
    "from scipy.misc import derivative\n",
    "from math       import exp"
   ]
  },
  {
   "cell_type": "markdown",
   "metadata": {},
   "source": [
    "Implement Newton method for a single-variable function"
   ]
  },
  {
   "cell_type": "code",
   "execution_count": 2,
   "metadata": {},
   "outputs": [],
   "source": [
    "def newtonMethod(f, x0, approx = 0.001, output = True):\n",
    "  inv_der_i = 1 / derivative(f, x0, dx = 1e-6, n = 1)\n",
    "  f_i       = f(x0)\n",
    "  x_i       = x0 - inv_der_i * f_i\n",
    "  diff_f    = abs(f(x_i) - f_i)\n",
    "\n",
    "  if output:\n",
    "    print \"1 / f'(x_0) =\", inv_der_i, \"\\n\"\\\n",
    "          \"f(x_0) =\", f_i, \"\\n\",\\\n",
    "          \"x_1 =\", x_i, \"\\n\",\\\n",
    "          \"|f(x_1) - f(x_0)| =\", diff_f, \"\\n\",\\\n",
    "          \"|f(x_1) - f(x_0)|\", \">\" if (diff_f > approx) else \"<\", approx, \"\\n\"\n",
    "    i = 2\n",
    "\n",
    "  while diff_f > approx:\n",
    "    inv_der_i = 1 / derivative(f, x_i, dx = 1e-6, n = 1)\n",
    "    f_i       = f(x_i)\n",
    "    x_i       = x_i - inv_der_i * f_i\n",
    "    diff_f    = abs(f(x_i) - f_i)\n",
    "\n",
    "    if output:\n",
    "      print \"1 / f'(x_\" + i.__str__() + \") =\", inv_der_i, \"\\n\",\\\n",
    "            \"f(x_\" + i.__str__() + \") =\", f_i, \"\\n\",\\\n",
    "            \"x_\" + i.__str__() + \" =\", x_i, \"\\n\",\\\n",
    "            \"|f(x_\" + i.__str__() + \") - f(x_\" + (i - 1).__str__() + \")| =\", diff_f, \"\\n\",\\\n",
    "            \"|f(x_\" + i.__str__() + \") - f(x_\" + (i - 1).__str__() + \")|\", \">\" if (diff_f > approx) else \"<\", approx, \"\\n\"\n",
    "      i += 1\n",
    "\n",
    "  return x_i"
   ]
  },
  {
   "cell_type": "markdown",
   "metadata": {},
   "source": [
    "Use Newton method for function:\n",
    "\\begin{equation}\n",
    "e^{x} - 1 - 2{x}^3 = 0\n",
    "\\end{equation}\n",
    "with ${x}_0 = -1$, $\\epsilon = 0.001$"
   ]
  },
  {
   "cell_type": "code",
   "execution_count": 3,
   "metadata": {
    "scrolled": true
   },
   "outputs": [
    {
     "name": "stdout",
     "output_type": "stream",
     "text": [
      "1 / f'(x_0) = -0.17755301748179045 \n",
      "f(x_0) = 1.36787944117 \n",
      "x_1 = -0.7571288776687052 \n",
      "|f(x_1) - f(x_0)| = 1.0308289764663137 \n",
      "|f(x_1) - f(x_0)| > 0.001 \n",
      "\n",
      "1 / f'(x_2) = -0.33664890530770764 \n",
      "f(x_2) = 0.33705046470512867 \n",
      "x_2 = -0.6436612076922694 \n",
      "|f(x_2) - f(x_1)| = 0.2783476827859679 \n",
      "|f(x_2) - f(x_1)| > 0.001 \n",
      "\n",
      "1 / f'(x_3) = -0.5100913735346844 \n",
      "f(x_3) = 0.058702781919160785 \n",
      "x_3 = -0.6137174250328177 \n",
      "|f(x_3) - f(x_2)| = 0.05505582494117728 \n",
      "|f(x_3) - f(x_2)| > 0.001 \n",
      "\n",
      "1 / f'(x_4) = -0.5818826030608585 \n",
      "f(x_4) = 0.0036469569779835065 \n",
      "x_4 = -0.6115953242132177 \n",
      "|f(x_4) - f(x_3)| = 0.0036291737626028553 \n",
      "|f(x_4) - f(x_3)| > 0.001 \n",
      "\n",
      "1 / f'(x_5) = -0.5876102481520447 \n",
      "f(x_5) = 1.7783215380651196e-05 \n",
      "x_5 = -0.611584874613615 \n",
      "|f(x_5) - f(x_4)| = 1.7782785068476414e-05 \n",
      "|f(x_5) - f(x_4)| < 0.001 \n",
      "\n",
      "x = -0.611584874613615\n"
     ]
    }
   ],
   "source": [
    "x = newtonMethod(lambda x: exp(x) - 1 - (2 * x ** 3), -1, approx = 0.001, output = True)\n",
    "\n",
    "print \"x =\", x"
   ]
  }
 ],
 "metadata": {
  "kernelspec": {
   "display_name": "Python 2",
   "language": "python",
   "name": "python2"
  },
  "language_info": {
   "codemirror_mode": {
    "name": "ipython",
    "version": 2
   },
   "file_extension": ".py",
   "mimetype": "text/x-python",
   "name": "python",
   "nbconvert_exporter": "python",
   "pygments_lexer": "ipython2",
   "version": "2.7.14"
  }
 },
 "nbformat": 4,
 "nbformat_minor": 2
}
